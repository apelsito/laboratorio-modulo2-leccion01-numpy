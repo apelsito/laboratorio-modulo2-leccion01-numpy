{
 "cells": [
  {
   "cell_type": "markdown",
   "id": "6db588db",
   "metadata": {},
   "source": [
    "<div style=\"text-align: center;\">\n",
    "  <img src=\"https://github.com/Hack-io-Data/Imagenes/blob/main/01-LogosHackio/logo_naranja@4x.png?raw=true\" alt=\"esquema\" />\n",
    "</div>"
   ]
  },
  {
   "cell_type": "markdown",
   "id": "11308d6c",
   "metadata": {},
   "source": [
    "\n",
    "# Laboratorio de NumPy"
   ]
  },
  {
   "cell_type": "code",
   "execution_count": 1,
   "id": "7a1c493d",
   "metadata": {},
   "outputs": [],
   "source": [
    "import numpy as np"
   ]
  },
  {
   "cell_type": "markdown",
   "id": "a19d4596",
   "metadata": {},
   "source": [
    "#### Ejercicio 1 - Crea un array de 1D con los números del 0 al 9."
   ]
  },
  {
   "cell_type": "code",
   "execution_count": 16,
   "id": "9d4e1d42",
   "metadata": {},
   "outputs": [
    {
     "data": {
      "text/plain": [
       "array([1, 2, 3, 4, 5, 6, 7, 8, 9])"
      ]
     },
     "execution_count": 16,
     "metadata": {},
     "output_type": "execute_result"
    }
   ],
   "source": [
    "nums = [1,2,3,4,5,6,7,8,9]\n",
    "array1D = np.array(nums)\n",
    "array1D"
   ]
  },
  {
   "cell_type": "markdown",
   "id": "f4a41f16",
   "metadata": {},
   "source": [
    "#### Ejercicio 2 - Convierte un array 1D en un array 2D con 2 filas y 5 columnas."
   ]
  },
  {
   "cell_type": "code",
   "execution_count": 15,
   "id": "3d7cef3c",
   "metadata": {},
   "outputs": [
    {
     "data": {
      "text/plain": [
       "array([[ 1,  2,  3,  4,  5],\n",
       "       [ 6,  7,  8,  9, 10]])"
      ]
     },
     "execution_count": 15,
     "metadata": {},
     "output_type": "execute_result"
    }
   ],
   "source": [
    "nums = [1,2,3,4,5,6,7,8,9,10]\n",
    "array1DR = np.array(nums)\n",
    "reforma = np.reshape(array1DR,(2,5))\n",
    "reforma"
   ]
  },
  {
   "cell_type": "markdown",
   "id": "86bb8999",
   "metadata": {},
   "source": [
    "#### Ejercicio 3 - Encuentra los índices de los elementos con valor distinto de 0 en el siguiente array: [0, 2, 0, 3, 0, 4, 0]."
   ]
  },
  {
   "cell_type": "code",
   "execution_count": 30,
   "id": "d1fcfca4",
   "metadata": {},
   "outputs": [
    {
     "name": "stdout",
     "output_type": "stream",
     "text": [
      "Los índices donde no hay 0 son (array([1, 3, 5]),)\n"
     ]
    }
   ],
   "source": [
    "cuqui = [0,2,0,4,0,4,0]\n",
    "arr1D3 = np.array(cuqui)\n",
    "indices = np.where(arr1D3 != 0)\n",
    "print(f\"Los índices donde no hay 0 son {indices}\")"
   ]
  },
  {
   "cell_type": "markdown",
   "id": "1c548419",
   "metadata": {},
   "source": [
    "#### Ejercicio 4 - Crea un array 3x3 con valores aleatorios entre 0 y 1."
   ]
  },
  {
   "cell_type": "code",
   "execution_count": 29,
   "id": "e1d4f19f",
   "metadata": {},
   "outputs": [
    {
     "data": {
      "text/plain": [
       "array([[1, 0, 1],\n",
       "       [1, 0, 0],\n",
       "       [1, 1, 0]], dtype=int32)"
      ]
     },
     "execution_count": 29,
     "metadata": {},
     "output_type": "execute_result"
    }
   ],
   "source": [
    "np.random.randint(0,2,(3,3)) #El 2 no se incluye"
   ]
  },
  {
   "cell_type": "markdown",
   "id": "aee82811",
   "metadata": {},
   "source": [
    "#### Ejercicio 5 - Crea un array de 10 números aleatorios y encuentra el valor máximo y mínimo."
   ]
  },
  {
   "cell_type": "code",
   "execution_count": 40,
   "id": "81fea76e",
   "metadata": {},
   "outputs": [
    {
     "data": {
      "text/plain": [
       "np.int32(29)"
      ]
     },
     "execution_count": 40,
     "metadata": {},
     "output_type": "execute_result"
    }
   ],
   "source": [
    "array = np.random.randint(0,30,10)\n",
    "array\n",
    "array.max() #El máximo de todo el array"
   ]
  },
  {
   "cell_type": "markdown",
   "id": "6559375b",
   "metadata": {},
   "source": [
    "#### Ejercicio 6 - Crea un array de una dimensión e inviértelo. "
   ]
  },
  {
   "cell_type": "code",
   "execution_count": 95,
   "id": "31385db0",
   "metadata": {},
   "outputs": [
    {
     "name": "stdout",
     "output_type": "stream",
     "text": [
      "[19  9  5  5  8 19 19  9 11  5]\n"
     ]
    },
    {
     "data": {
      "text/plain": [
       "array([ 5, 11,  9, 19, 19,  8,  5,  5,  9, 19], dtype=int32)"
      ]
     },
     "execution_count": 95,
     "metadata": {},
     "output_type": "execute_result"
    }
   ],
   "source": [
    "ar1d = np.random.randint(1,20,10)\n",
    "print(ar1d)\n",
    "invertir = ar1d[::-1] #Con esto invertimos al revés\n",
    "invertir"
   ]
  },
  {
   "cell_type": "markdown",
   "id": "4457f046",
   "metadata": {},
   "source": [
    "\n",
    "#### Ejercicio 6 - Genera un array tridimensional de dimensiones (2, 3, 4) con valores enteros del 1 al 24.\n",
    "\n",
    "- Selecciona el primer `15` del array.\n",
    "\n",
    "- Selecciona todos los elementos del primer array. \n",
    "\n",
    "- Selecciona la última fila del último array\n"
   ]
  },
  {
   "cell_type": "code",
   "execution_count": 83,
   "id": "3cab04c9",
   "metadata": {},
   "outputs": [
    {
     "name": "stdout",
     "output_type": "stream",
     "text": [
      "[[[ 8 11  6 20]\n",
      "  [ 1 12 11 16]\n",
      "  [ 5 22 11  6]]\n",
      "\n",
      " [[23  7 15 18]\n",
      "  [19 11 18 11]\n",
      "  [ 5 21  5 17]]]\n",
      "Next\n",
      "14\n",
      "Next\n",
      "[[ 8 11  6 20]\n",
      " [ 1 12 11 16]\n",
      " [ 5 22 11  6]]\n",
      "Next\n",
      "[ 5 21  5 17]\n"
     ]
    },
    {
     "data": {
      "text/plain": [
       "np.int64(14)"
      ]
     },
     "execution_count": 83,
     "metadata": {},
     "output_type": "execute_result"
    }
   ],
   "source": [
    "arr3d = np.random.randint(1,25,(2,3,4))\n",
    "print(arr3d)\n",
    "print(\"Next\")\n",
    "sel1 = np.argmax(arr3d == 15) #Solo busca el primer valor que coincida\n",
    "sel2 = arr3d[0,:,:] #Seleccionar todos los elementos del primer array\n",
    "sel3 = arr3d[1,2,:]\n",
    "print(sel1)\n",
    "print(\"Next\")\n",
    "print(sel2)\n",
    "print(\"Next\")\n",
    "print(sel3)"
   ]
  },
  {
   "cell_type": "markdown",
   "id": "681b7e4e",
   "metadata": {},
   "source": [
    "\n",
    "#### Ejercicio 7 - Genera un array tridimensional de dimensiones (3, 2, 5) con valores enteros del 1 al 30.\n",
    "\n",
    "- Selecciona el subarray que contiene los dos primeros elementos de cada fila del primer array.\n",
    "\n",
    "- Selecciona el subarray que contiene todas las filas de los dos últimos arrays.\n"
   ]
  },
  {
   "cell_type": "code",
   "execution_count": 94,
   "id": "b008a9aa",
   "metadata": {},
   "outputs": [
    {
     "name": "stdout",
     "output_type": "stream",
     "text": [
      "[[[14 12 20 11 25]\n",
      "  [12 19 12  5 27]]\n",
      "\n",
      " [[16 16 17  5  9]\n",
      "  [29  3  3  5 19]]\n",
      "\n",
      " [[18  8  6  6  1]\n",
      "  [15 12  5 10 19]]]\n",
      "\n",
      "seleccion 1:\n",
      "[[14 12]\n",
      " [12 19]]\n",
      "\n",
      "Seleccion 2\n",
      "\n",
      "[[[16 16 17  5  9]\n",
      "  [29  3  3  5 19]]\n",
      "\n",
      " [[18  8  6  6  1]\n",
      "  [15 12  5 10 19]]]\n"
     ]
    }
   ],
   "source": [
    "arr3d2 = np.random.randint(1,31,(3,2,5))\n",
    "print(arr3d2)\n",
    "sele1 = arr3d2[0,:,:2]\n",
    "print(f\"\\nseleccion 1:\\n{sele1}\\n\")\n",
    "sele2 = arr3d2[1:3,:,:]\n",
    "print(\"Seleccion 2\\n\")\n",
    "print(sele2)"
   ]
  },
  {
   "cell_type": "markdown",
   "id": "4fabd9d0",
   "metadata": {},
   "source": [
    "#### Ejercicio 8 - Genera un array tridimensional de dimensiones (4, 3, 2) con valores enteros del 1 al 24.\n",
    "\n",
    "- Cambia todos los elementos de la segunda fila del segundo array por `0`.\n",
    "\n",
    "- Cambia todos los valores del último array a `-1`.\n"
   ]
  },
  {
   "cell_type": "code",
   "execution_count": 106,
   "id": "0ef45b69",
   "metadata": {},
   "outputs": [
    {
     "name": "stdout",
     "output_type": "stream",
     "text": [
      "[[[ 1 21]\n",
      "  [ 7 12]\n",
      "  [ 2 18]]\n",
      "\n",
      " [[10 15]\n",
      "  [ 7 24]\n",
      "  [22  4]]\n",
      "\n",
      " [[11  2]\n",
      "  [ 5  8]\n",
      "  [ 6 23]]\n",
      "\n",
      " [[20 12]\n",
      "  [16  9]\n",
      "  [ 3 18]]]\n",
      "\n",
      "Next\n",
      "[[[ 1 21]\n",
      "  [ 7 12]\n",
      "  [ 2 18]]\n",
      "\n",
      " [[10 15]\n",
      "  [ 0  0]\n",
      "  [22  4]]\n",
      "\n",
      " [[11  2]\n",
      "  [ 5  8]\n",
      "  [ 6 23]]\n",
      "\n",
      " [[20 12]\n",
      "  [16  9]\n",
      "  [ 3 18]]]\n",
      "\n",
      "Next\n",
      "[[[ 1 21]\n",
      "  [ 7 12]\n",
      "  [ 2 18]]\n",
      "\n",
      " [[10 15]\n",
      "  [ 0  0]\n",
      "  [22  4]]\n",
      "\n",
      " [[-1 -1]\n",
      "  [-1 -1]\n",
      "  [-1 -1]]\n",
      "\n",
      " [[20 12]\n",
      "  [16  9]\n",
      "  [ 3 18]]]\n",
      "\n",
      "Next\n"
     ]
    }
   ],
   "source": [
    "arr3d3 = np.random.randint(1,25,(4,3,2))\n",
    "print(arr3d3)\n",
    "print(\"\")\n",
    "print(\"Next\")\n",
    "arr3d3[1,1,:] = 0 #Esta es la manera de reemplazar los valores\n",
    "print(arr3d3)\n",
    "print(\"\")\n",
    "print(\"Next\")\n",
    "arr3d3[2,:,:] = -1 #Esta es la manera de reemplazar los valores\n",
    "print(arr3d3)\n",
    "print(\"\")\n",
    "print(\"Next\")"
   ]
  },
  {
   "cell_type": "markdown",
   "id": "c60bc3bb",
   "metadata": {},
   "source": [
    "\n",
    "#### Ejercicio 9 - Genera un array tridimensional de dimensiones (2, 4, 3) con valores enteros del -10 al 13.\n",
    "\n",
    "- Selecciona todos los elementos mayores a `5`.\n",
    "\n",
    "- Reemplaza todos los elementos negativos por `0`.\n"
   ]
  },
  {
   "cell_type": "code",
   "execution_count": 114,
   "id": "28bf9232",
   "metadata": {},
   "outputs": [
    {
     "name": "stdout",
     "output_type": "stream",
     "text": [
      "[[[ -2  -3  -9]\n",
      "  [ -1   9  10]\n",
      "  [-10   4  -7]\n",
      "  [  4  11   7]]\n",
      "\n",
      " [[  4   3  10]\n",
      "  [  8  -2   6]\n",
      "  [ -9  -6  13]\n",
      "  [  8   8  -1]]]\n",
      "[ 9 10 11  7 10  8  6 13  8  8]\n",
      "\n",
      "Reemplazados\n",
      "\n"
     ]
    },
    {
     "data": {
      "text/plain": [
       "array([[[ 0,  0,  0],\n",
       "        [ 0,  9, 10],\n",
       "        [ 0,  4,  0],\n",
       "        [ 4, 11,  7]],\n",
       "\n",
       "       [[ 4,  3, 10],\n",
       "        [ 8,  0,  6],\n",
       "        [ 0,  0, 13],\n",
       "        [ 8,  8,  0]]], dtype=int32)"
      ]
     },
     "execution_count": 114,
     "metadata": {},
     "output_type": "execute_result"
    }
   ],
   "source": [
    "arr3d4 = np.random.randint(-10,14,(2,4,3))\n",
    "print(arr3d4)\n",
    "busca = np.where(arr3d4 > 5) #Nos devuelve los índices \n",
    "encuentra = arr3d4[busca] #Nos devuelve los valores usando los índices ya buscados\n",
    "print(encuentra)\n",
    "reemplaza = np.where(arr3d4 < 0) #Usando la misma logica que la anterior\n",
    "print(\"\\nReemplazados\\n\")\n",
    "arr3d4[reemplaza] = 0 #pero ahora le asigno valor 0 \n",
    "arr3d4"
   ]
  },
  {
   "cell_type": "markdown",
   "id": "ab38a3be",
   "metadata": {},
   "source": [
    "#### Ejercicio 10 - Genera un array tridimensional de dimensiones (3, 3, 3) con valores enteros del 1 al 27.\n",
    "\n",
    "- Selecciona el subarray del segundo array que contenga solo las dos primeras columnas.\n",
    "\n",
    "- Selecciona todos los elementos del tercer array que sean mayores que `20`.\n"
   ]
  },
  {
   "cell_type": "code",
   "execution_count": 126,
   "id": "78c979cf",
   "metadata": {},
   "outputs": [
    {
     "name": "stdout",
     "output_type": "stream",
     "text": [
      "\n",
      "[[[24 16  3]\n",
      "  [ 2  4 15]\n",
      "  [23  5 15]]\n",
      "\n",
      " [[22 26 19]\n",
      "  [18  2 22]\n",
      "  [23 12 16]]\n",
      "\n",
      " [[12 10 11]\n",
      "  [23 12  6]\n",
      "  [20 12 25]]]\n",
      "Next\n",
      "\n",
      "[[22 26]\n",
      " [18  2]\n",
      " [23 12]]\n",
      "Next\n",
      "\n"
     ]
    },
    {
     "ename": "IndexError",
     "evalue": "too many indices for array: array is 2-dimensional, but 3 were indexed",
     "output_type": "error",
     "traceback": [
      "\u001b[1;31m---------------------------------------------------------------------------\u001b[0m",
      "\u001b[1;31mIndexError\u001b[0m                                Traceback (most recent call last)",
      "Cell \u001b[1;32mIn[126], line 6\u001b[0m\n\u001b[0;32m      4\u001b[0m \u001b[38;5;28mprint\u001b[39m(\u001b[38;5;124mf\u001b[39m\u001b[38;5;124m\"\u001b[39m\u001b[38;5;130;01m\\n\u001b[39;00m\u001b[38;5;132;01m{\u001b[39;00mselec1\u001b[38;5;132;01m}\u001b[39;00m\u001b[38;5;130;01m\\n\u001b[39;00m\u001b[38;5;124mNext\u001b[39m\u001b[38;5;130;01m\\n\u001b[39;00m\u001b[38;5;124m\"\u001b[39m)\n\u001b[0;32m      5\u001b[0m busc \u001b[38;5;241m=\u001b[39m np\u001b[38;5;241m.\u001b[39mwhere(arr3d5 \u001b[38;5;241m>\u001b[39m \u001b[38;5;241m20\u001b[39m) \u001b[38;5;66;03m#Buscas allí\u001b[39;00m\n\u001b[1;32m----> 6\u001b[0m selec2 \u001b[38;5;241m=\u001b[39m \u001b[43marr3d5\u001b[49m\u001b[43m[\u001b[49m\u001b[38;5;241;43m2\u001b[39;49m\u001b[43m,\u001b[49m\u001b[43m:\u001b[49m\u001b[43m,\u001b[49m\u001b[43m:\u001b[49m\u001b[43m]\u001b[49m\u001b[43m[\u001b[49m\u001b[43mbusc\u001b[49m\u001b[43m]\u001b[49m\n\u001b[0;32m      7\u001b[0m \u001b[38;5;28mprint\u001b[39m(selec2)\n",
      "\u001b[1;31mIndexError\u001b[0m: too many indices for array: array is 2-dimensional, but 3 were indexed"
     ]
    }
   ],
   "source": [
    "arr3d5 = np.random.randint(1,28,(3,3,3))\n",
    "print(f\"\\n{arr3d5}\\nNext\")\n",
    "selec1 = arr3d5[1,:,:2]\n",
    "print(f\"\\n{selec1}\\nNext\\n\")\n",
    "busc = np.where(arr3d5[2,:,:] > 20) #Buscas en la tercera directamente\n",
    "selec2 = arr3d5[2,:,:][busc] #tenemos que volver a currar\n",
    "print(selec2)"
   ]
  },
  {
   "cell_type": "markdown",
   "id": "f1a00156",
   "metadata": {},
   "source": [
    "#### Ejercicio 11 - Crea un array de 10 números aleatorios y reemplaza los valores máximos y mínimos por 0."
   ]
  },
  {
   "cell_type": "code",
   "execution_count": 135,
   "id": "990fa526",
   "metadata": {},
   "outputs": [
    {
     "name": "stdout",
     "output_type": "stream",
     "text": [
      "[21 20 14 20  3 27 18 23 16 10]\n",
      "\n",
      "[21 20 14 20  0  0 18 23 16 10]\n",
      "\n"
     ]
    }
   ],
   "source": [
    "arr = np.random.randint(1,30,10)\n",
    "print(arr)\n",
    "print(\"\")\n",
    "maximo = np.max(arr)\n",
    "minimo = np.min(arr)\n",
    "busca_max = np.where(arr == maximo)\n",
    "busca_min = np.where(arr == minimo)\n",
    "arr[busca_max] = 0\n",
    "arr[busca_min] = 0\n",
    "print(arr)\n",
    "print(\"\")"
   ]
  },
  {
   "cell_type": "markdown",
   "id": "781fafd0",
   "metadata": {},
   "source": [
    "#### Ejercicio 12 - Genera un array de 15 números aleatorios enteros entre 1 y 100 y reordénalo en orden ascendente."
   ]
  },
  {
   "cell_type": "code",
   "execution_count": 137,
   "id": "caa4fd47",
   "metadata": {},
   "outputs": [
    {
     "name": "stdout",
     "output_type": "stream",
     "text": [
      "[13 15 30 34 35 37 40 47 63 69 70 79 95 96 96]\n"
     ]
    }
   ],
   "source": [
    "arr2 = np.random.randint(1,101,15)\n",
    "arr2.sort() #ordernar de forma ascendente\n",
    "print(arr2)"
   ]
  },
  {
   "cell_type": "markdown",
   "id": "45f10c3e",
   "metadata": {},
   "source": [
    "#### Ejercicio 11 - Calcula la suma de los elementos a lo largo de las filas y columnas en una matriz 4x4."
   ]
  },
  {
   "cell_type": "code",
   "execution_count": 141,
   "id": "90220788",
   "metadata": {},
   "outputs": [
    {
     "name": "stdout",
     "output_type": "stream",
     "text": [
      "[[[12  2 31 28]\n",
      "  [19  5 13 19]\n",
      "  [ 2 27  7 35]\n",
      "  [32 21 23 29]]]\n"
     ]
    },
    {
     "data": {
      "text/plain": [
       "np.int64(305)"
      ]
     },
     "execution_count": 141,
     "metadata": {},
     "output_type": "execute_result"
    }
   ],
   "source": [
    "matr = np.random.randint(0,40,(1,4,4))\n",
    "print(matr)\n",
    "np.sum(matr)"
   ]
  },
  {
   "cell_type": "markdown",
   "id": "69b9751a",
   "metadata": {},
   "source": [
    "#### Ejercicio 12 - Crea una matriz de 5x5 con valores en el borde igual a 1 y en el interior igual a 0."
   ]
  },
  {
   "cell_type": "code",
   "execution_count": 148,
   "id": "eca81323",
   "metadata": {},
   "outputs": [
    {
     "data": {
      "text/plain": [
       "array([[1, 1, 1, 1, 1],\n",
       "       [1, 0, 0, 0, 1],\n",
       "       [1, 0, 0, 0, 1],\n",
       "       [1, 0, 0, 0, 1],\n",
       "       [1, 1, 1, 1, 1]])"
      ]
     },
     "execution_count": 148,
     "metadata": {},
     "output_type": "execute_result"
    }
   ],
   "source": [
    "matr2 = np.zeros((5,5), dtype= int)\n",
    "matr2[0,:] = 1 #Arriba\n",
    "matr2[4,:] = 1 #Abajo\n",
    "matr2[:,0] = 1 #izquierda\n",
    "matr2[:,4] = 1 #derecha\n",
    "matr2"
   ]
  },
  {
   "cell_type": "markdown",
   "id": "1ea8068d",
   "metadata": {},
   "source": [
    "#### Ejercicio 13 - Calcula la media y la desviación estándar de un array de 10 números aleatorios."
   ]
  },
  {
   "cell_type": "code",
   "execution_count": 154,
   "id": "05dd579d",
   "metadata": {},
   "outputs": [
    {
     "name": "stdout",
     "output_type": "stream",
     "text": [
      "[13 27 24 32 11  1 21 33 21 45]\n",
      "\n",
      " La media es: 22.8\n",
      "La desviación es de: 11.906300852909773\n"
     ]
    }
   ],
   "source": [
    "arr3 = np.random.randint(1,50,10)\n",
    "print(f\"{arr3}\\n\")\n",
    "media = np.mean(arr3)\n",
    "print(f\" La media es: {media}\")\n",
    "desv_std = np.std(arr3)\n",
    "print(f\"La desviación es de: {desv_std}\")"
   ]
  },
  {
   "cell_type": "markdown",
   "id": "6add6669",
   "metadata": {},
   "source": [
    "#### Ejercicio 14 - Genera un array tridimensional de dimensiones (2, 3, 4) con valores enteros del 1 al 24.\n",
    "\n",
    "- Transpón el array para intercambiar los ejes de la forma (2, 3, 4) a (4, 3, 2).\n",
    "\n",
    "- Observa cómo cambian las posiciones de los elementos y sus índices después de la transposición. Explica en una celda de markdown que es lo que ha pasado. \n"
   ]
  },
  {
   "cell_type": "markdown",
   "id": "c28c4b60",
   "metadata": {},
   "source": [
    "# Respuesta\n",
    "Lo que ha ocurrido es que la función se ha transpuesto \n",
    "Le hemos indicado que de 2 matrices de 3 filas y 4 columnas,\n",
    "la transponga a 4 matrices, 3 filas y 2 columnas \n",
    "en transpose se usan indices en vez de los números de forma que lo coge donde creamos la matriz \n",
    "es decir para:\n",
    "```python\n",
    "    #                               Indices\n",
    "    #declarar función                0 1 2\n",
    "    matr3d = np.random.randint(1,25,(2,3,4))\n",
    "    #                               Valores\n",
    "```\n",
    "El transpose a 4,3,2 será:\n",
    "```python\n",
    "    #                                Valores\n",
    "    #declarar función                 4,3,2\n",
    "    transponer = np.transpose(matr3d,(2,1,0)) \n",
    "    #                                Indices\n",
    "```\n",
    "El resultado es que ahora tenemos cada columna de ambas matrices en una matriz por columna, es decir\n",
    "\n",
    "    --                                           --\n",
    "    | Matriz1Columna1Fila1 | Matriz2Columna1Fila1 |\n",
    "    | Matriz1Columna1Fila2 | Matriz2Columna1Fila2 |\n",
    "    --                                           --"
   ]
  },
  {
   "cell_type": "code",
   "execution_count": 158,
   "id": "ae98aca5",
   "metadata": {},
   "outputs": [
    {
     "name": "stdout",
     "output_type": "stream",
     "text": [
      "[[[12 16  7 12]\n",
      "  [13  7 16  3]\n",
      "  [ 6  4 18 15]]\n",
      "\n",
      " [[13  5  4  4]\n",
      "  [18  1 17 19]\n",
      "  [15 11 11  9]]]\n",
      "\n",
      "Transponer:\n",
      "[[[12 13]\n",
      "  [13 18]\n",
      "  [ 6 15]]\n",
      "\n",
      " [[16  5]\n",
      "  [ 7  1]\n",
      "  [ 4 11]]\n",
      "\n",
      " [[ 7  4]\n",
      "  [16 17]\n",
      "  [18 11]]\n",
      "\n",
      " [[12  4]\n",
      "  [ 3 19]\n",
      "  [15  9]]]\n",
      "\n"
     ]
    }
   ],
   "source": [
    "matr3d = np.random.randint(1,25,(2,3,4))\n",
    "print(f\"{matr3d}\\n\")\n",
    "#Recuerda que los numeros aqui son los índices de 0 a 2 de cuando creas la matriz y le dices tamaño\n",
    "transponer = np.transpose(matr3d,(2,1,0)) \n",
    "print(f\"Transponer:\\n{transponer}\\n\")\n"
   ]
  },
  {
   "cell_type": "markdown",
   "id": "1e32b5e6",
   "metadata": {},
   "source": [
    "#### Ejercicio 15 - Genera un array tridimensional de dimensiones (3, 4, 2) con valores enteros del 1 al 24.\n",
    "\n",
    "- Transpón el array para intercambiar el primer y segundo eje, de manera que la nueva forma del array sea (4, 3, 2).\n"
   ]
  },
  {
   "cell_type": "code",
   "execution_count": null,
   "id": "0146fdd6",
   "metadata": {},
   "outputs": [],
   "source": [
    "r2d2 = "
   ]
  },
  {
   "cell_type": "markdown",
   "id": "fcf92586",
   "metadata": {},
   "source": [
    "#### Ejercicio 16 - Genera un array tridimensional de dimensiones (3, 2, 4) con valores enteros del 1 al 24.\n",
    "\n",
    "- Realiza una rotación completa de los ejes para convertir la forma original (3, 2, 4) en (4, 3, 2).\n"
   ]
  },
  {
   "cell_type": "code",
   "execution_count": null,
   "id": "dd2c7f27",
   "metadata": {},
   "outputs": [],
   "source": []
  },
  {
   "cell_type": "markdown",
   "id": "1795e11f",
   "metadata": {},
   "source": [
    "#### Ejercicio 17 - Manipulación de Arrays en 3D\n",
    "\n",
    "- Crea un array tridimensional con dimensiones (3, 4, 5) cuyos elementos sean números enteros aleatorios entre -10 y 10.\n",
    "\n",
    "- Crea un array vacío con la misma forma y dimensiones que el array creado anteriormente. Luego, reemplaza los valores de la matriz vacía basada en los valores del primer array bajo las siguientes condiciones:\n",
    "\n",
    "   - Si el valor es igual a la mediana, se reemplaza por `\"M\"`.\n",
    "\n",
    "   - Si el valor es mayor que la mediana, se reemplaza por `\"X\"`.\n",
    "\n",
    "   - Si el valor es menor que la mediana, se reemplaza por `\"Y\"`.\n",
    "\n",
    "   - Si el valor es igual al máximo, se reemplaza por `\"MAX\"`.\n",
    "\n",
    "   - Si el valor es igual al mínimo, se reemplaza por `\"MIN\"`.\n"
   ]
  },
  {
   "cell_type": "code",
   "execution_count": null,
   "id": "d309b397",
   "metadata": {},
   "outputs": [],
   "source": []
  },
  {
   "cell_type": "markdown",
   "id": "83794704",
   "metadata": {},
   "source": [
    "#### Ejercicio 18 - Verificación de Filas y Columnas Iguales\n",
    "\n",
    "Crea un array bidimensional de dimensiones 4x4, escribe un código para determinar si alguna fila es exactamente igual a alguna columna.\n",
    "\n",
    "**Reglas:**\n",
    "\n",
    "- No puedes usar funciones predefinidas de NumPy para comparar filas y columnas (`np.array_equal`, etc.).\n",
    "\n",
    "- Debes resolverlo con estructuras básicas de Python (bucles, condicionales, etc.).\n",
    "\n",
    "- Debes revisar si hay al menos una fila que coincida exactamente con alguna columna.\n",
    "\n",
    "**Pistas**:\n",
    "\n",
    "- Puedes recorrer cada fila y cada columna de la matriz usando bucles.\n",
    "\n",
    "- Para comparar una fila con una columna, puedes hacerlo elemento por elemento."
   ]
  },
  {
   "cell_type": "code",
   "execution_count": null,
   "id": "afd51c60",
   "metadata": {},
   "outputs": [],
   "source": []
  }
 ],
 "metadata": {
  "kernelspec": {
   "display_name": "Python 3",
   "language": "python",
   "name": "python3"
  },
  "language_info": {
   "codemirror_mode": {
    "name": "ipython",
    "version": 3
   },
   "file_extension": ".py",
   "mimetype": "text/x-python",
   "name": "python",
   "nbconvert_exporter": "python",
   "pygments_lexer": "ipython3",
   "version": "3.11.9"
  }
 },
 "nbformat": 4,
 "nbformat_minor": 5
}
